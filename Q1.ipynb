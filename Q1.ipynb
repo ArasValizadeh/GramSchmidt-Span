{
 "cells": [
  {
   "cell_type": "markdown",
   "metadata": {},
   "source": [
    "question number 1"
   ]
  },
  {
   "cell_type": "code",
   "execution_count": 2,
   "metadata": {},
   "outputs": [],
   "source": [
    "import numpy as np\n",
    "import numpy.linalg as linear\n",
    "\n",
    "\n",
    "def GramSchmidt(vectors):\n",
    "    orthogonal_basis = np.zeros_like(vectors)\n",
    "    for i in range(len(vectors)):\n",
    "        orthogonal_basis[i] = vectors[i]\n",
    "        for j in range(i):\n",
    "            if (linear.norm(orthogonal_basis[j] != 0 )):\n",
    "                orthogonal_basis[i] -= (np.dot(vectors[i], orthogonal_basis[j]) / np.dot(orthogonal_basis[j], orthogonal_basis[j])) * orthogonal_basis[j]\n",
    "        size_of_base = linear.norm(orthogonal_basis[i])\n",
    "        if (size_of_base != 0):\n",
    "            orthogonal_basis[i] /= size_of_base\n",
    "    return orthogonal_basis\n"
   ]
  },
  {
   "cell_type": "markdown",
   "metadata": {
    "tags": []
   },
   "source": [
    ".در این بخش تابع گرام-اشمیت پیاده شده است‌ \n",
    "نحوه کار بدین صورت است که ابتدا یک ماتریس صفر به اندازه ماتریسی که درون آن بردار های ما وجود دارد تولید میکنیم. سپس برای تولید بردار های یکه متعامد اولین بردار را به عنوان وی۱ انتخاب میکنیم سپس تمامی بردار های بعدی را بدین شکل تشکیل می‌دهیم که تمامی پروجکشن های بردار های متعامد قبلی از درون آن را خارج کنیم و در نهایت تمامی بردار ها را تبدیل به بردار یکه می‌کنیم‌"
   ]
  },
  {
   "cell_type": "code",
   "execution_count": 3,
   "metadata": {},
   "outputs": [],
   "source": [
    "\n",
    "def is_in_subspace(vectors, new_vector):\n",
    "    orthogonal_basis = GramSchmidt(vectors)\n",
    "    print('here',orthogonal_basis)\n",
    "    coefficients = np.dot(new_vector, orthogonal_basis.T)\n",
    "    print(\"new vector : \",new_vector)\n",
    "    print(\"T : \", orthogonal_basis.T)\n",
    "    print(\"coefficients : \" , coefficients)\n",
    "    return np.allclose(np.dot(coefficients, orthogonal_basis), new_vector)\n"
   ]
  },
  {
   "cell_type": "markdown",
   "metadata": {},
   "source": [
    "در این قسمت ابتدا بردار های ورودی را به تابع قسمت قبل می‌دهیم تا بردار های متعامد یکه را برایمان تولید کنند ‌\n",
    "سپس برای تولید ضرایبی که احتمالا تولید کننده بردار مورد نظر ما باشند ، بردار مورد نظر را با ترانهاده بردار های متعامد یکه\n",
    "ضرب می‌کنیم تا حاصل آن به صورت یک ماتریس که درونش ضرایب قرار دارند به ما برگردد ، صرفا در بخش آخر چک می‌کنیم آیا ‌‌\n",
    "بردار حاصل با بردار اولیه برابر هستند یا نه"
   ]
  },
  {
   "cell_type": "code",
   "execution_count": 4,
   "metadata": {},
   "outputs": [
    {
     "name": "stdout",
     "output_type": "stream",
     "text": [
      "[[0. 1. 0.]\n",
      " [1. 0. 0.]\n",
      " [0. 0. 2.]]\n",
      "here [[0. 1. 0.]\n",
      " [1. 0. 0.]\n",
      " [0. 0. 1.]]\n",
      "new vector :  [5 5 0]\n",
      "T :  [[0. 1. 0.]\n",
      " [1. 0. 0.]\n",
      " [0. 0. 1.]]\n",
      "coefficients :  [5. 5. 0.]\n",
      "True\n",
      "[[0. 1. 0.]\n",
      " [1. 0. 0.]\n",
      " [0. 0. 1.]]\n"
     ]
    }
   ],
   "source": [
    "\n",
    "m = int(input())\n",
    "input_arrays = []\n",
    "for i in range(m):\n",
    "    xi = input()\n",
    "    xi_split = xi.split(' ')\n",
    "    xi_split = [float(x) for x in xi_split]\n",
    "    input_arrays.append(xi_split)\n",
    "vectors = np.array(input_arrays)\n",
    "print(vectors)\n",
    "\n",
    "x_new = np.array([5,5,0])\n",
    "booleanValue = is_in_subspace(vectors, x_new)\n",
    "print(booleanValue) \n",
    "\n",
    "if (booleanValue) :\n",
    "    print(GramSchmidt(vectors))\n",
    "else :\n",
    "    input_arrays.append([5.0,5.0,0.0])\n",
    "    print(\"input array false :\",input_arrays)\n",
    "    new_vectors = np.array(input_arrays)\n",
    "    print(GramSchmidt(new_vectors))"
   ]
  },
  {
   "cell_type": "markdown",
   "metadata": {},
   "source": [
    "حال در بخش آخر کاری که می‌کنیم این است که چک کنیم آیا این بردار ساخته شده یا نه اگر نه، با اضافه کردن بردار مورد نظر به بردار های اولیه بردار های متعامد یکه آن رو تولید می‌کنیم و نمایش ‌می‌دهیم."
   ]
  }
 ],
 "metadata": {
  "kernelspec": {
   "display_name": "Python 3 (ipykernel)",
   "language": "python",
   "name": "python3"
  },
  "language_info": {
   "codemirror_mode": {
    "name": "ipython",
    "version": 3
   },
   "file_extension": ".py",
   "mimetype": "text/x-python",
   "name": "python",
   "nbconvert_exporter": "python",
   "pygments_lexer": "ipython3",
   "version": "3.10.7"
  }
 },
 "nbformat": 4,
 "nbformat_minor": 4
}
